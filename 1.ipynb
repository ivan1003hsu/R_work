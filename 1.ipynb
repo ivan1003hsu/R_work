{
 "cells": [
  {
   "cell_type": "code",
   "execution_count": 2,
   "id": "b90db7c9",
   "metadata": {},
   "outputs": [],
   "source": [
    "x= c(1,2)"
   ]
  },
  {
   "cell_type": "code",
   "execution_count": 5,
   "id": "4bec55a3",
   "metadata": {},
   "outputs": [
    {
     "data": {
      "text/html": [
       "'x'"
      ],
      "text/latex": [
       "'x'"
      ],
      "text/markdown": [
       "'x'"
      ],
      "text/plain": [
       "[1] \"x\""
      ]
     },
     "metadata": {},
     "output_type": "display_data"
    }
   ],
   "source": [
    "ls()"
   ]
  },
  {
   "cell_type": "code",
   "execution_count": 4,
   "id": "93b302d1",
   "metadata": {},
   "outputs": [],
   "source": [
    "k = as(1, 'character')"
   ]
  },
  {
   "cell_type": "code",
   "execution_count": 50,
   "id": "8bff96e3",
   "metadata": {},
   "outputs": [
    {
     "name": "stdout",
     "output_type": "stream",
     "text": [
      "11968\n"
     ]
    }
   ],
   "source": [
    "y = readline(prompt = paste0(\"1\",1, k))\n",
    "y = as.numeric(y)"
   ]
  },
  {
   "cell_type": "code",
   "execution_count": 3,
   "id": "d0faf375",
   "metadata": {},
   "outputs": [
    {
     "ename": "ERROR",
     "evalue": "Error in paste(\"1\", k, k): 找不到物件 'k'\n",
     "output_type": "error",
     "traceback": [
      "Error in paste(\"1\", k, k): 找不到物件 'k'\nTraceback:\n",
      "1. paste(\"1\", k, k)"
     ]
    }
   ],
   "source": [
    "paste(\"1\",k)"
   ]
  },
  {
   "cell_type": "code",
   "execution_count": 13,
   "id": "07bc8795",
   "metadata": {
    "scrolled": true
   },
   "outputs": [
    {
     "name": "stderr",
     "output_type": "stream",
     "text": [
      "Warning message in rbind(a, b):\n",
      "“number of columns of result is not a multiple of vector length (arg 2)”"
     ]
    },
    {
     "data": {
      "text/html": [
       "<table>\n",
       "<tbody>\n",
       "\t<tr><th scope=row>a</th><td>1</td><td>2</td><td>3</td></tr>\n",
       "\t<tr><th scope=row>b</th><td>5</td><td>6</td><td>5</td></tr>\n",
       "</tbody>\n",
       "</table>\n"
      ],
      "text/latex": [
       "\\begin{tabular}{r|lll}\n",
       "\ta & 1 & 2 & 3\\\\\n",
       "\tb & 5 & 6 & 5\\\\\n",
       "\\end{tabular}\n"
      ],
      "text/markdown": [
       "\n",
       "| a | 1 | 2 | 3 |\n",
       "| b | 5 | 6 | 5 |\n",
       "\n"
      ],
      "text/plain": [
       "  [,1] [,2] [,3]\n",
       "a 1    2    3   \n",
       "b 5    6    5   "
      ]
     },
     "metadata": {},
     "output_type": "display_data"
    }
   ],
   "source": [
    "a = c(1,2,3)\n",
    "b = c(5,6)\n",
    "rbind(a,b)"
   ]
  },
  {
   "cell_type": "markdown",
   "id": "bc404e2c",
   "metadata": {},
   "source": [
    "## analysis of variance"
   ]
  },
  {
   "cell_type": "code",
   "execution_count": 140,
   "id": "a39855e9",
   "metadata": {},
   "outputs": [
    {
     "name": "stdout",
     "output_type": "stream",
     "text": [
      "number of treatments:4\n",
      "number of datas in 1-th treatment:2\n",
      "1-th data in 1-th treatment:2\n",
      "2-th data in 1-th treatment:3\n",
      "number of datas in 2-th treatment:4\n",
      "1-th data in 2-th treatment:657\n",
      "2-th data in 2-th treatment:574\n",
      "3-th data in 2-th treatment:342\n",
      "4-th data in 2-th treatment:324\n",
      "number of datas in 3-th treatment:3\n",
      "1-th data in 3-th treatment:56\n",
      "2-th data in 3-th treatment:324\n",
      "3-th data in 3-th treatment:23\n",
      "number of datas in 4-th treatment:2\n",
      "1-th data in 4-th treatment:67\n",
      "2-th data in 4-th treatment:98\n",
      "[1] 138398.4\n"
     ]
    },
    {
     "data": {
      "text/html": [
       "<table>\n",
       "<thead><tr><th></th><th scope=col>sum of square</th><th scope=col>degree of freedom</th><th scope=col>mean square</th><th scope=col>F</th><th scope=col>p-value</th></tr></thead>\n",
       "<tbody>\n",
       "\t<tr><th scope=row>treatments</th><td>412786.3  </td><td>3         </td><td>137595.4  </td><td>6.959386  </td><td>0.01656141</td></tr>\n",
       "\t<tr><th scope=row>error</th><td>138398.4  </td><td>7         </td><td> 19771.2  </td><td>0.000000  </td><td>0.00000000</td></tr>\n",
       "</tbody>\n",
       "</table>\n"
      ],
      "text/latex": [
       "\\begin{tabular}{r|lllll}\n",
       "  & sum of square & degree of freedom & mean square & F & p-value\\\\\n",
       "\\hline\n",
       "\ttreatments & 412786.3   & 3          & 137595.4   & 6.959386   & 0.01656141\\\\\n",
       "\terror & 138398.4   & 7          &  19771.2   & 0.000000   & 0.00000000\\\\\n",
       "\\end{tabular}\n"
      ],
      "text/markdown": [
       "\n",
       "| <!--/--> | sum of square | degree of freedom | mean square | F | p-value |\n",
       "|---|---|---|---|---|---|\n",
       "| treatments | 412786.3   | 3          | 137595.4   | 6.959386   | 0.01656141 |\n",
       "| error | 138398.4   | 7          |  19771.2   | 0.000000   | 0.00000000 |\n",
       "\n"
      ],
      "text/plain": [
       "           sum of square degree of freedom mean square F        p-value   \n",
       "treatments 412786.3      3                 137595.4    6.959386 0.01656141\n",
       "error      138398.4      7                  19771.2    0.000000 0.00000000"
      ]
     },
     "metadata": {},
     "output_type": "display_data"
    }
   ],
   "source": [
    "n_tr = readline(prompt = \"number of treatments:\")\n",
    "n_tr = as.numeric(n_tr)\n",
    "n_d = c(0)\n",
    "A = numeric(length = 0)\n",
    "for (tr in 1:n_tr){\n",
    "    n_per_tr = readline(prompt=paste0(\"number of datas in \", tr, \"-th treatment:\"))\n",
    "    n_per_tr = as.numeric(n_per_tr)\n",
    "    n_d[tr] = n_d[length(n_d)] + n_per_tr\n",
    "    \n",
    "    C = numeric(length = n_per_tr)\n",
    "    for (i in 1:n_per_tr){\n",
    "        k = readline(prompt = paste0(i, \"-th data in \", tr, \"-th treatment:\"))\n",
    "        k = as.numeric(k)\n",
    "        C[i] = k\n",
    "    }\n",
    "    A = append(A, C)\n",
    "}\n",
    "n_d = append(0, n_d)\n",
    "\n",
    "#mstr\n",
    "#sstr\n",
    "x_bar_bar = mean(A)\n",
    "sstr = 0\n",
    "for(tr in 1:n_tr){\n",
    "    x_tr = A[(n_d[tr]+1): (n_d[tr+1])]\n",
    "    x_tr_bar = mean(x_tr)\n",
    "    n = n_d[tr+1]-n_d[tr]\n",
    "    sstr = sstr + n*((x_tr_bar-x_bar_bar)^2)\n",
    "}\n",
    "mstr = sstr/(n_tr-1)\n",
    "\n",
    "#mse\n",
    "#sse\n",
    "sse = 0\n",
    "for(tr in 1:n_tr){\n",
    "    x_tr = A[(n_d[tr]+1): (n_d[tr+1])]\n",
    "    n = n_d[tr+1]-n_d[tr]\n",
    "    sse = sse + (n-1)*var(x_tr)\n",
    "}\n",
    "mse = sse/(length(A)-n_tr)\n",
    "\n",
    "#F\n",
    "F = mstr/mse\n",
    "p_f = pf(F, (n_tr-1), (length(A)-n_tr), lower.tail = FALSE)\n",
    "\n",
    "anova = matrix(c(sstr, (n_tr-1), mstr, F, p_f, \n",
    "                sse, length(A)-n_tr, mse, NA, NA),\n",
    "              nrow = 2, ncol=5, \n",
    "               dimnames=list(c(\"treatments\", \"error\"),\n",
    "                             c(\"sum of square\", \"degree of freedom\", \"mean square\", \"F\", \"p-value\"))\n",
    "              ,byrow=TRUE)\n",
    "anova"
   ]
  },
  {
   "cell_type": "markdown",
   "id": "0dbbb83a",
   "metadata": {},
   "source": [
    "## random blocks"
   ]
  },
  {
   "cell_type": "code",
   "execution_count": 187,
   "id": "5fbbab5d",
   "metadata": {},
   "outputs": [
    {
     "name": "stdout",
     "output_type": "stream",
     "text": [
      "number of treatments:3\n",
      "number of blocks:5\n",
      "[1] \">> (i,j) denotes: i-th data in j-treatment\"\n",
      "(1,1):3.77\n",
      "(2,1):3.72\n",
      "(3,1):3.87\n",
      "(4,1):3.76\n",
      "(5,1):3.69\n",
      "(1,2):3.83\n",
      "(2,2):3.83\n",
      "(3,2):3.85\n",
      "(4,2):3.77\n",
      "(5,2):3.83\n",
      "(1,3):3.78\n",
      "(2,3):3.87\n",
      "(3,3):3.89\n",
      "(4,3):3.79\n",
      "(5,3):3.79\n"
     ]
    },
    {
     "data": {
      "text/html": [
       "<table>\n",
       "<thead><tr><th></th><th scope=col>sum of square</th><th scope=col>degree of freedom</th><th scope=col>mean square</th><th scope=col>F</th><th scope=col>p-value</th></tr></thead>\n",
       "<tbody>\n",
       "\t<tr><th scope=row>treatments</th><td>0.0124133333333333 </td><td>2                  </td><td>0.00620666666666665</td><td>3.70916334661352   </td><td>0.0724787965809609 </td></tr>\n",
       "\t<tr><th scope=row>block</th><td>0.0196933333333333 </td><td>4                  </td><td>MSBL               </td><td>NA                 </td><td>NA                 </td></tr>\n",
       "\t<tr><th scope=row>error</th><td>0.0133866666666667 </td><td>8                  </td><td>0.00167333333333334</td><td>NA                 </td><td>NA                 </td></tr>\n",
       "\t<tr><th scope=row>total</th><td>0.0454933333333334 </td><td>14                 </td><td>NA                 </td><td>NA                 </td><td>NA                 </td></tr>\n",
       "</tbody>\n",
       "</table>\n"
      ],
      "text/latex": [
       "\\begin{tabular}{r|lllll}\n",
       "  & sum of square & degree of freedom & mean square & F & p-value\\\\\n",
       "\\hline\n",
       "\ttreatments & 0.0124133333333333  & 2                   & 0.00620666666666665 & 3.70916334661352    & 0.0724787965809609 \\\\\n",
       "\tblock & 0.0196933333333333  & 4                   & MSBL                & NA                  & NA                 \\\\\n",
       "\terror & 0.0133866666666667  & 8                   & 0.00167333333333334 & NA                  & NA                 \\\\\n",
       "\ttotal & 0.0454933333333334  & 14                  & NA                  & NA                  & NA                 \\\\\n",
       "\\end{tabular}\n"
      ],
      "text/markdown": [
       "\n",
       "| <!--/--> | sum of square | degree of freedom | mean square | F | p-value |\n",
       "|---|---|---|---|---|---|\n",
       "| treatments | 0.0124133333333333  | 2                   | 0.00620666666666665 | 3.70916334661352    | 0.0724787965809609  |\n",
       "| block | 0.0196933333333333  | 4                   | MSBL                | NA                  | NA                  |\n",
       "| error | 0.0133866666666667  | 8                   | 0.00167333333333334 | NA                  | NA                  |\n",
       "| total | 0.0454933333333334  | 14                  | NA                  | NA                  | NA                  |\n",
       "\n"
      ],
      "text/plain": [
       "           sum of square      degree of freedom mean square        \n",
       "treatments 0.0124133333333333 2                 0.00620666666666665\n",
       "block      0.0196933333333333 4                 MSBL               \n",
       "error      0.0133866666666667 8                 0.00167333333333334\n",
       "total      0.0454933333333334 14                NA                 \n",
       "           F                p-value           \n",
       "treatments 3.70916334661352 0.0724787965809609\n",
       "block      NA               NA                \n",
       "error      NA               NA                \n",
       "total      NA               NA                "
      ]
     },
     "metadata": {},
     "output_type": "display_data"
    }
   ],
   "source": [
    "n_tr = readline(prompt = \"number of treatments:\")\n",
    "n_tr = as.numeric(n_tr)\n",
    "n_bl = readline(prompt = \"number of blocks:\")\n",
    "n_bl = as.numeric(n_bl)\n",
    "A = matrix(numeric(length = n_tr*n_bl),\n",
    "          nrow=n_bl, ncol=n_tr)\n",
    "print(\">> (i,j) denotes: i-th data in j-treatment\")\n",
    "for(tr in 1:n_tr){\n",
    "    for(bl in 1:n_bl){\n",
    "        k = readline(prompt = paste0(\"(\", bl, \",\", tr, \"):\"))\n",
    "        k = as.numeric(k)\n",
    "        A[bl, tr]=k\n",
    "    }\n",
    "}\n",
    "\n",
    "x_bar_bar = mean(A)\n",
    "#mstr\n",
    "#sstr\n",
    "sstr=0\n",
    "for(tr in 1:n_tr){\n",
    "    sstr = sstr + n_bl*((mean(A[,tr])-x_bar_bar)^2)\n",
    "}\n",
    "mstr = sstr/(n_tr-1)\n",
    "\n",
    "#msbl\n",
    "#ssbl\n",
    "ssbl = 0\n",
    "for(bl in 1:n_bl){\n",
    "    ssbl = ssbl + n_tr*((mean(A[bl,])-x_bar_bar)^2)\n",
    "}\n",
    "\n",
    "#sst\n",
    "sst = 0\n",
    "for(i in A){\n",
    "    sst = sst + (i-x_bar_bar)^2\n",
    "}\n",
    "\n",
    "#mse\n",
    "#sse\n",
    "sse = sst - sstr - ssbl\n",
    "mse = sse/((n_tr-1)*(n_bl-1))\n",
    "\n",
    "#F\n",
    "F = mstr/mse\n",
    "p_f = pf(F, (n_tr-1), (n_tr-1)*(n_bl-1), lower.tail = FALSE)\n",
    "\n",
    "anova = matrix(c(sstr, (n_tr-1), mstr, F, p_f,\n",
    "                 ssbl, (n_bl-1), \"MSBL\", NA, NA,\n",
    "                sse, ((n_tr-1)*(n_bl-1)), mse, NA, NA,\n",
    "                 sst, (length(A)-1), NA, NA,NA),\n",
    "              nrow = 4, ncol=5, \n",
    "               dimnames=list(c(\"treatments\",\"block\", \"error\", \"total\"),\n",
    "                             c(\"sum of square\", \"degree of freedom\", \"mean square\", \"F\", \"p-value\"))\n",
    "              ,byrow=TRUE)\n",
    "anova"
   ]
  },
  {
   "cell_type": "code",
   "execution_count": 189,
   "id": "1986d284",
   "metadata": {},
   "outputs": [],
   "source": []
  },
  {
   "cell_type": "code",
   "execution_count": 190,
   "id": "7933173e",
   "metadata": {},
   "outputs": [
    {
     "name": "stdout",
     "output_type": "stream",
     "text": [
      "[1] \"ok\"\n"
     ]
    },
    {
     "data": {
      "text/html": [
       "<table>\n",
       "<thead><tr><th></th><th scope=col>sum of square</th><th scope=col>degree of freedom</th><th scope=col>mean square</th><th scope=col>F</th><th scope=col>p-value</th></tr></thead>\n",
       "<tbody>\n",
       "\t<tr><th scope=row>treatments</th><td>0.0136933333333333 </td><td>2                  </td><td>0.00684666666666663</td><td>3.67441860465112   </td><td>0.0738002831554564 </td></tr>\n",
       "\t<tr><th scope=row>block</th><td>0.0193733333333334 </td><td>4                  </td><td>MSBL               </td><td>NA                 </td><td>NA                 </td></tr>\n",
       "\t<tr><th scope=row>error</th><td>0.0149066666666668 </td><td>8                  </td><td>0.00186333333333335</td><td>NA                 </td><td>NA                 </td></tr>\n",
       "\t<tr><th scope=row>total</th><td>0.0479733333333334 </td><td>14                 </td><td>NA                 </td><td>NA                 </td><td>NA                 </td></tr>\n",
       "</tbody>\n",
       "</table>\n"
      ],
      "text/latex": [
       "\\begin{tabular}{r|lllll}\n",
       "  & sum of square & degree of freedom & mean square & F & p-value\\\\\n",
       "\\hline\n",
       "\ttreatments & 0.0136933333333333  & 2                   & 0.00684666666666663 & 3.67441860465112    & 0.0738002831554564 \\\\\n",
       "\tblock & 0.0193733333333334  & 4                   & MSBL                & NA                  & NA                 \\\\\n",
       "\terror & 0.0149066666666668  & 8                   & 0.00186333333333335 & NA                  & NA                 \\\\\n",
       "\ttotal & 0.0479733333333334  & 14                  & NA                  & NA                  & NA                 \\\\\n",
       "\\end{tabular}\n"
      ],
      "text/markdown": [
       "\n",
       "| <!--/--> | sum of square | degree of freedom | mean square | F | p-value |\n",
       "|---|---|---|---|---|---|\n",
       "| treatments | 0.0136933333333333  | 2                   | 0.00684666666666663 | 3.67441860465112    | 0.0738002831554564  |\n",
       "| block | 0.0193733333333334  | 4                   | MSBL                | NA                  | NA                  |\n",
       "| error | 0.0149066666666668  | 8                   | 0.00186333333333335 | NA                  | NA                  |\n",
       "| total | 0.0479733333333334  | 14                  | NA                  | NA                  | NA                  |\n",
       "\n"
      ],
      "text/plain": [
       "           sum of square      degree of freedom mean square        \n",
       "treatments 0.0136933333333333 2                 0.00684666666666663\n",
       "block      0.0193733333333334 4                 MSBL               \n",
       "error      0.0149066666666668 8                 0.00186333333333335\n",
       "total      0.0479733333333334 14                NA                 \n",
       "           F                p-value           \n",
       "treatments 3.67441860465112 0.0738002831554564\n",
       "block      NA               NA                \n",
       "error      NA               NA                \n",
       "total      NA               NA                "
      ]
     },
     "metadata": {},
     "output_type": "display_data"
    }
   ],
   "source": [
    "x_bar_bar = mean(A)\n",
    "#mstr\n",
    "#sstr\n",
    "sstr=0\n",
    "for(tr in 1:n_tr){\n",
    "    sstr = sstr + n_bl*((mean(A[,tr])-x_bar_bar)^2)\n",
    "}\n",
    "mstr = sstr/(n_tr-1)\n",
    "\n",
    "#msbl\n",
    "#ssbl\n",
    "ssbl = 0\n",
    "for(bl in 1:n_bl){\n",
    "    ssbl = ssbl + n_tr*((mean(A[bl,])-x_bar_bar)^2)\n",
    "}\n",
    "\n",
    "#sst\n",
    "sst = 0\n",
    "for(i in A){\n",
    "    sst = sst + (i-x_bar_bar)^2\n",
    "}\n",
    "\n",
    "#mse\n",
    "#sse\n",
    "sse = sst - sstr - ssbl\n",
    "mse = sse/((n_tr-1)*(n_bl-1))\n",
    "\n",
    "\n",
    "#F\n",
    "F = mstr/mse\n",
    "p_f = pf(F, (n_tr-1), (n_tr-1)*(n_bl-1), lower.tail = FALSE)\n",
    "print(\"ok\")\n",
    "\n",
    "\n",
    "anova = matrix(c(sstr, (n_tr-1), mstr, F, p_f,\n",
    "                 ssbl, (n_bl-1), \"MSBL\", NA, NA,\n",
    "                sse, ((n_tr-1)*(n_bl-1)), mse, NA, NA,\n",
    "                 sst, (length(A)-1), NA, NA,NA),\n",
    "              nrow = 4, ncol=5, \n",
    "               dimnames=list(c(\"treatments\",\"block\", \"error\", \"total\"),\n",
    "                             c(\"sum of square\", \"degree of freedom\", \"mean square\", \"F\", \"p-value\"))\n",
    "              ,byrow=TRUE)\n",
    "anova"
   ]
  },
  {
   "cell_type": "code",
   "execution_count": 182,
   "id": "ab1fd593",
   "metadata": {},
   "outputs": [
    {
     "data": {
      "text/html": [
       "63250"
      ],
      "text/latex": [
       "63250"
      ],
      "text/markdown": [
       "63250"
      ],
      "text/plain": [
       "[1] 63250"
      ]
     },
     "metadata": {},
     "output_type": "display_data"
    }
   ],
   "source": [
    "ssbl = 0\n",
    "for(bl in 1:n_bl){\n",
    "    ssbl = ssbl + n_tr*((mean(A[bl,])-x_bar_bar)^2)\n",
    "}\n",
    "ssbl"
   ]
  },
  {
   "cell_type": "code",
   "execution_count": null,
   "id": "a266a681",
   "metadata": {},
   "outputs": [],
   "source": []
  }
 ],
 "metadata": {
  "kernelspec": {
   "display_name": "R",
   "language": "R",
   "name": "ir"
  }
 },
 "nbformat": 4,
 "nbformat_minor": 5
}
